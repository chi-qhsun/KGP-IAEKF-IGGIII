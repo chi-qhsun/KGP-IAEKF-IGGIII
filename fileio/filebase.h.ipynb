{
 "cells": [
  {
   "cell_type": "code",
   "execution_count": null,
   "id": "83b4cd83",
   "metadata": {},
   "outputs": [],
   "source": [
    "class FileBase:\n",
    "    TEXT = 0\n",
    "    BINARY = 1\n",
    "\n",
    "    def __init__(self):\n",
    "        self.file = None\n",
    "        self.filetype = self.TEXT\n",
    "        self.columns = 0\n",
    "\n",
    "    def __del__(self):\n",
    "        self.close()\n",
    "\n",
    "    def close(self):\n",
    "        if self.file is not None:\n",
    "            self.file.close()\n",
    "            self.file = None\n",
    "\n",
    "    def is_open(self):\n",
    "        return self.file is not None\n",
    "\n",
    "    def is_eof(self):\n",
    "        if self.file:\n",
    "            return self.file.tell() == os.fstat(self.file.fileno()).st_size\n",
    "        return True\n",
    "\n",
    "    def get_file_stream(self):\n",
    "        return self.file\n",
    "\n",
    "    def columns(self):\n",
    "        return self.columns\n",
    "\n",
    "import os\n",
    "\n",
    "# Example usage:\n",
    "if __name__ == \"__main__\":\n",
    "    fb = FileBase()\n",
    "    # Open a file (example.txt in read mode)\n",
    "    fb.file = open('example.txt', 'r')\n",
    "    print(fb.is_open())  # Check if file is open\n",
    "    print(fb.is_eof())   # Check if EOF is reached\n",
    "    fb.close()           # Close the file\n"
   ]
  }
 ],
 "metadata": {
  "kernelspec": {
   "display_name": "Python 3 (ipykernel)",
   "language": "python",
   "name": "python3"
  },
  "language_info": {
   "codemirror_mode": {
    "name": "ipython",
    "version": 3
   },
   "file_extension": ".py",
   "mimetype": "text/x-python",
   "name": "python",
   "nbconvert_exporter": "python",
   "pygments_lexer": "ipython3",
   "version": "3.9.7"
  }
 },
 "nbformat": 4,
 "nbformat_minor": 5
}
