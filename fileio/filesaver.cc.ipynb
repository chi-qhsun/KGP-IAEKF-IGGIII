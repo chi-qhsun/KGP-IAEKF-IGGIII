{
 "cells": [
  {
   "cell_type": "code",
   "execution_count": null,
   "id": "63fa5c1e",
   "metadata": {},
   "outputs": [],
   "source": [
    "import struct\n",
    "\n",
    "class FileSaver:\n",
    "    TEXT = 0\n",
    "    BINARY = 1\n",
    "\n",
    "    def __init__(self, filename, columns, filetype):\n",
    "        self.columns = columns\n",
    "        self.filetype = filetype\n",
    "        self.file = None\n",
    "        self.open(filename, columns, filetype)\n",
    "\n",
    "    def open(self, filename, columns, filetype):\n",
    "        mode = 'w' if filetype == self.TEXT else 'wb'\n",
    "        self.file = open(filename, mode)\n",
    "        self.columns = columns\n",
    "        self.filetype = filetype\n",
    "        return self.is_open()\n",
    "\n",
    "    def is_open(self):\n",
    "        return self.file is not None\n",
    "\n",
    "    def close(self):\n",
    "        if self.file:\n",
    "            self.file.close()\n",
    "            self.file = None\n",
    "\n",
    "    def dump(self, data):\n",
    "        if self.filetype == self.TEXT:\n",
    "            formatted_data = \" \".join(f\"{x:15.9f}\" for x in data)\n",
    "            self.file.write(formatted_data + '\\n')\n",
    "        else:\n",
    "            # Pack data as binary double values\n",
    "            binary_data = struct.pack(f'{len(data)}d', *data)\n",
    "            self.file.write(binary_data)\n",
    "\n",
    "    def dumpn(self, data_matrix):\n",
    "        for row in data_matrix:\n",
    "            self.dump(row)\n",
    "\n",
    "# Example usage\n",
    "if __name__ == \"__main__\":\n",
    "    # Create a FileSaver instance to write data to a text file\n",
    "    fs = FileSaver('output.txt', columns=5, filetype=FileSaver.TEXT)\n",
    "    data = [1.234567891, 2.345678902, 3.456789013, 4.567890124, 5.678901235]\n",
    "    fs.dump(data)\n",
    "    data_matrix = [data, [x + 1 for x in data], [x + 2 for x in data]]\n",
    "    fs.dumpn(data_matrix)\n",
    "    fs.close()\n"
   ]
  }
 ],
 "metadata": {
  "kernelspec": {
   "display_name": "Python 3 (ipykernel)",
   "language": "python",
   "name": "python3"
  },
  "language_info": {
   "codemirror_mode": {
    "name": "ipython",
    "version": 3
   },
   "file_extension": ".py",
   "mimetype": "text/x-python",
   "name": "python",
   "nbconvert_exporter": "python",
   "pygments_lexer": "ipython3",
   "version": "3.9.7"
  }
 },
 "nbformat": 4,
 "nbformat_minor": 5
}
